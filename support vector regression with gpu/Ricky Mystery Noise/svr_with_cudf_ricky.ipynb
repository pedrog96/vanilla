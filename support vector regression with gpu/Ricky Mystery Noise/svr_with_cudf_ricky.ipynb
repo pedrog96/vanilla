{
 "cells": [
  {
   "cell_type": "markdown",
   "metadata": {
    "pycharm": {
     "name": "#%% md\n"
    }
   },
   "source": [
    "# Start"
   ]
  },
  {
   "cell_type": "code",
   "execution_count": 29,
   "metadata": {},
   "outputs": [],
   "source": [
    "# !source /fs/project/PAS1066/zhang_anaconda/anaconda3/bin/activate"
   ]
  },
  {
   "cell_type": "code",
   "execution_count": 30,
   "metadata": {
    "id": "4nLrk46BllED",
    "pycharm": {
     "name": "#%%\n"
    }
   },
   "outputs": [],
   "source": [
    "import cudf \n",
    "import cupy as cp\n",
    "import cuml\n",
    "from cuml.svm import SVR\n",
    "from cuml.model_selection import train_test_split\n",
    "from cuml.preprocessing import StandardScaler\n",
    "import numpy as np\n",
    "import pandas as pd\n",
    "import time\n",
    "from sklearn.metrics import mean_squared_error, r2_score\n",
    "import matplotlib.pyplot as plt"
   ]
  },
  {
   "cell_type": "code",
   "execution_count": 31,
   "metadata": {
    "id": "Hi6ZYofGgL6K",
    "pycharm": {
     "name": "#%%\n"
    }
   },
   "outputs": [],
   "source": [
    "df = cudf.read_csv('ricky_data.csv')"
   ]
  },
  {
   "cell_type": "code",
   "execution_count": 32,
   "metadata": {
    "colab": {
     "base_uri": "https://localhost:8080/",
     "height": 334
    },
    "id": "BBT6SkGDhKLX",
    "outputId": "5a9a1824-608d-405a-b0c9-044aaa9d27ba",
    "pycharm": {
     "name": "#%%\n"
    }
   },
   "outputs": [
    {
     "data": {
      "text/html": [
       "<div>\n",
       "<style scoped>\n",
       "    .dataframe tbody tr th:only-of-type {\n",
       "        vertical-align: middle;\n",
       "    }\n",
       "\n",
       "    .dataframe tbody tr th {\n",
       "        vertical-align: top;\n",
       "    }\n",
       "\n",
       "    .dataframe thead th {\n",
       "        text-align: right;\n",
       "    }\n",
       "</style>\n",
       "<table border=\"1\" class=\"dataframe\">\n",
       "  <thead>\n",
       "    <tr style=\"text-align: right;\">\n",
       "      <th></th>\n",
       "      <th>Avg_Proton_Energy_(MeV)</th>\n",
       "      <th>Focal_Distance_(um)</th>\n",
       "      <th>Intensity_(W_cm2)</th>\n",
       "      <th>Max_Proton_Energy_(MeV)</th>\n",
       "      <th>Pulse_Duration_(fs)</th>\n",
       "      <th>Spot_Size_(FWHM um)</th>\n",
       "      <th>Target_Thickness (um)</th>\n",
       "      <th>Total_Proton_Energy_(MeV)</th>\n",
       "      <th>laserE_(J)</th>\n",
       "      <th>ratio_proE_laserE_</th>\n",
       "    </tr>\n",
       "  </thead>\n",
       "  <tbody>\n",
       "    <tr>\n",
       "      <th>count</th>\n",
       "      <td>195932.000000</td>\n",
       "      <td>195932.000000</td>\n",
       "      <td>1.959320e+05</td>\n",
       "      <td>195932.000000</td>\n",
       "      <td>195932.0</td>\n",
       "      <td>195932.0</td>\n",
       "      <td>195932.000000</td>\n",
       "      <td>1.959320e+05</td>\n",
       "      <td>195932.000000</td>\n",
       "      <td>195932.000000</td>\n",
       "    </tr>\n",
       "    <tr>\n",
       "      <th>mean</th>\n",
       "      <td>0.000366</td>\n",
       "      <td>0.000000</td>\n",
       "      <td>2.764737e+18</td>\n",
       "      <td>0.001144</td>\n",
       "      <td>40.0</td>\n",
       "      <td>2.0</td>\n",
       "      <td>7.700000</td>\n",
       "      <td>3.650781e+04</td>\n",
       "      <td>0.006282</td>\n",
       "      <td>0.000000</td>\n",
       "    </tr>\n",
       "    <tr>\n",
       "      <th>std</th>\n",
       "      <td>0.000761</td>\n",
       "      <td>17.606862</td>\n",
       "      <td>3.446224e+18</td>\n",
       "      <td>0.002414</td>\n",
       "      <td>0.0</td>\n",
       "      <td>0.0</td>\n",
       "      <td>4.214569</td>\n",
       "      <td>1.212380e+05</td>\n",
       "      <td>0.007830</td>\n",
       "      <td>0.000001</td>\n",
       "    </tr>\n",
       "    <tr>\n",
       "      <th>min</th>\n",
       "      <td>0.000001</td>\n",
       "      <td>-30.000000</td>\n",
       "      <td>1.000000e+17</td>\n",
       "      <td>0.000002</td>\n",
       "      <td>40.0</td>\n",
       "      <td>2.0</td>\n",
       "      <td>0.450000</td>\n",
       "      <td>2.473942e+00</td>\n",
       "      <td>0.000227</td>\n",
       "      <td>0.000000</td>\n",
       "    </tr>\n",
       "    <tr>\n",
       "      <th>25%</th>\n",
       "      <td>0.000028</td>\n",
       "      <td>-15.000000</td>\n",
       "      <td>3.162278e+17</td>\n",
       "      <td>0.000086</td>\n",
       "      <td>40.0</td>\n",
       "      <td>2.0</td>\n",
       "      <td>4.050000</td>\n",
       "      <td>3.470979e+02</td>\n",
       "      <td>0.000719</td>\n",
       "      <td>0.000000</td>\n",
       "    </tr>\n",
       "    <tr>\n",
       "      <th>50%</th>\n",
       "      <td>0.000103</td>\n",
       "      <td>0.000000</td>\n",
       "      <td>1.129463e+18</td>\n",
       "      <td>0.000316</td>\n",
       "      <td>40.0</td>\n",
       "      <td>2.0</td>\n",
       "      <td>7.700000</td>\n",
       "      <td>2.503727e+03</td>\n",
       "      <td>0.002566</td>\n",
       "      <td>0.000000</td>\n",
       "    </tr>\n",
       "    <tr>\n",
       "      <th>75%</th>\n",
       "      <td>0.000364</td>\n",
       "      <td>15.000000</td>\n",
       "      <td>3.981072e+18</td>\n",
       "      <td>0.001126</td>\n",
       "      <td>40.0</td>\n",
       "      <td>2.0</td>\n",
       "      <td>11.350000</td>\n",
       "      <td>1.895828e+04</td>\n",
       "      <td>0.009046</td>\n",
       "      <td>0.000000</td>\n",
       "    </tr>\n",
       "    <tr>\n",
       "      <th>max</th>\n",
       "      <td>0.013656</td>\n",
       "      <td>30.000000</td>\n",
       "      <td>1.258925e+19</td>\n",
       "      <td>0.046147</td>\n",
       "      <td>40.0</td>\n",
       "      <td>2.0</td>\n",
       "      <td>14.950000</td>\n",
       "      <td>3.156126e+06</td>\n",
       "      <td>0.028605</td>\n",
       "      <td>0.000013</td>\n",
       "    </tr>\n",
       "  </tbody>\n",
       "</table>\n",
       "</div>"
      ],
      "text/plain": [
       "       Avg_Proton_Energy_(MeV)  Focal_Distance_(um)  Intensity_(W_cm2)  \\\n",
       "count            195932.000000        195932.000000       1.959320e+05   \n",
       "mean                  0.000366             0.000000       2.764737e+18   \n",
       "std                   0.000761            17.606862       3.446224e+18   \n",
       "min                   0.000001           -30.000000       1.000000e+17   \n",
       "25%                   0.000028           -15.000000       3.162278e+17   \n",
       "50%                   0.000103             0.000000       1.129463e+18   \n",
       "75%                   0.000364            15.000000       3.981072e+18   \n",
       "max                   0.013656            30.000000       1.258925e+19   \n",
       "\n",
       "       Max_Proton_Energy_(MeV)  Pulse_Duration_(fs)  Spot_Size_(FWHM um)  \\\n",
       "count            195932.000000             195932.0             195932.0   \n",
       "mean                  0.001144                 40.0                  2.0   \n",
       "std                   0.002414                  0.0                  0.0   \n",
       "min                   0.000002                 40.0                  2.0   \n",
       "25%                   0.000086                 40.0                  2.0   \n",
       "50%                   0.000316                 40.0                  2.0   \n",
       "75%                   0.001126                 40.0                  2.0   \n",
       "max                   0.046147                 40.0                  2.0   \n",
       "\n",
       "       Target_Thickness (um)  Total_Proton_Energy_(MeV)     laserE_(J)  \\\n",
       "count          195932.000000               1.959320e+05  195932.000000   \n",
       "mean                7.700000               3.650781e+04       0.006282   \n",
       "std                 4.214569               1.212380e+05       0.007830   \n",
       "min                 0.450000               2.473942e+00       0.000227   \n",
       "25%                 4.050000               3.470979e+02       0.000719   \n",
       "50%                 7.700000               2.503727e+03       0.002566   \n",
       "75%                11.350000               1.895828e+04       0.009046   \n",
       "max                14.950000               3.156126e+06       0.028605   \n",
       "\n",
       "       ratio_proE_laserE_  \n",
       "count       195932.000000  \n",
       "mean             0.000000  \n",
       "std              0.000001  \n",
       "min              0.000000  \n",
       "25%              0.000000  \n",
       "50%              0.000000  \n",
       "75%              0.000000  \n",
       "max              0.000013  "
      ]
     },
     "execution_count": 32,
     "metadata": {},
     "output_type": "execute_result"
    }
   ],
   "source": [
    "df.describe()"
   ]
  },
  {
   "cell_type": "code",
   "execution_count": 33,
   "metadata": {
    "colab": {
     "base_uri": "https://localhost:8080/",
     "height": 456
    },
    "id": "A8Ca5DwJiq31",
    "outputId": "50660b48-a369-43f2-fb25-5ad5e1d17911",
    "pycharm": {
     "name": "#%%\n"
    }
   },
   "outputs": [
    {
     "data": {
      "text/html": [
       "<div>\n",
       "<style scoped>\n",
       "    .dataframe tbody tr th:only-of-type {\n",
       "        vertical-align: middle;\n",
       "    }\n",
       "\n",
       "    .dataframe tbody tr th {\n",
       "        vertical-align: top;\n",
       "    }\n",
       "\n",
       "    .dataframe thead th {\n",
       "        text-align: right;\n",
       "    }\n",
       "</style>\n",
       "<table border=\"1\" class=\"dataframe\">\n",
       "  <thead>\n",
       "    <tr style=\"text-align: right;\">\n",
       "      <th></th>\n",
       "      <th>Avg_Proton_Energy_(MeV)</th>\n",
       "      <th>Focal_Distance_(um)</th>\n",
       "      <th>Intensity_(W_cm2)</th>\n",
       "      <th>Max_Proton_Energy_(MeV)</th>\n",
       "      <th>Pulse_Duration_(fs)</th>\n",
       "      <th>Spot_Size_(FWHM um)</th>\n",
       "      <th>Target_Thickness (um)</th>\n",
       "      <th>Total_Proton_Energy_(MeV)</th>\n",
       "      <th>laserE_(J)</th>\n",
       "      <th>ratio_proE_laserE_</th>\n",
       "    </tr>\n",
       "  </thead>\n",
       "  <tbody>\n",
       "    <tr>\n",
       "      <th>0</th>\n",
       "      <td>0.000027</td>\n",
       "      <td>-30.0</td>\n",
       "      <td>1.000000e+17</td>\n",
       "      <td>0.000095</td>\n",
       "      <td>40.0</td>\n",
       "      <td>2.0</td>\n",
       "      <td>0.45</td>\n",
       "      <td>419.734708</td>\n",
       "      <td>0.000227</td>\n",
       "      <td>3.812325e-07</td>\n",
       "    </tr>\n",
       "    <tr>\n",
       "      <th>1</th>\n",
       "      <td>0.000018</td>\n",
       "      <td>-30.0</td>\n",
       "      <td>1.258925e+17</td>\n",
       "      <td>0.000058</td>\n",
       "      <td>40.0</td>\n",
       "      <td>2.0</td>\n",
       "      <td>0.45</td>\n",
       "      <td>672.007779</td>\n",
       "      <td>0.000286</td>\n",
       "      <td>4.279997e-07</td>\n",
       "    </tr>\n",
       "    <tr>\n",
       "      <th>2</th>\n",
       "      <td>0.000035</td>\n",
       "      <td>-30.0</td>\n",
       "      <td>1.584893e+17</td>\n",
       "      <td>0.000140</td>\n",
       "      <td>40.0</td>\n",
       "      <td>2.0</td>\n",
       "      <td>0.45</td>\n",
       "      <td>1368.311547</td>\n",
       "      <td>0.000360</td>\n",
       "      <td>4.805758e-07</td>\n",
       "    </tr>\n",
       "    <tr>\n",
       "      <th>3</th>\n",
       "      <td>0.000047</td>\n",
       "      <td>-30.0</td>\n",
       "      <td>1.995262e+17</td>\n",
       "      <td>0.000198</td>\n",
       "      <td>40.0</td>\n",
       "      <td>2.0</td>\n",
       "      <td>0.45</td>\n",
       "      <td>1321.107443</td>\n",
       "      <td>0.000453</td>\n",
       "      <td>5.397115e-07</td>\n",
       "    </tr>\n",
       "    <tr>\n",
       "      <th>4</th>\n",
       "      <td>0.000063</td>\n",
       "      <td>-30.0</td>\n",
       "      <td>2.511886e+17</td>\n",
       "      <td>0.000190</td>\n",
       "      <td>40.0</td>\n",
       "      <td>2.0</td>\n",
       "      <td>0.45</td>\n",
       "      <td>1700.042262</td>\n",
       "      <td>0.000571</td>\n",
       "      <td>6.062659e-07</td>\n",
       "    </tr>\n",
       "  </tbody>\n",
       "</table>\n",
       "</div>"
      ],
      "text/plain": [
       "   Avg_Proton_Energy_(MeV)  Focal_Distance_(um)  Intensity_(W_cm2)  \\\n",
       "0                 0.000027                -30.0       1.000000e+17   \n",
       "1                 0.000018                -30.0       1.258925e+17   \n",
       "2                 0.000035                -30.0       1.584893e+17   \n",
       "3                 0.000047                -30.0       1.995262e+17   \n",
       "4                 0.000063                -30.0       2.511886e+17   \n",
       "\n",
       "   Max_Proton_Energy_(MeV)  Pulse_Duration_(fs)  Spot_Size_(FWHM um)  \\\n",
       "0                 0.000095                 40.0                  2.0   \n",
       "1                 0.000058                 40.0                  2.0   \n",
       "2                 0.000140                 40.0                  2.0   \n",
       "3                 0.000198                 40.0                  2.0   \n",
       "4                 0.000190                 40.0                  2.0   \n",
       "\n",
       "   Target_Thickness (um)  Total_Proton_Energy_(MeV)  laserE_(J)  \\\n",
       "0                   0.45                 419.734708    0.000227   \n",
       "1                   0.45                 672.007779    0.000286   \n",
       "2                   0.45                1368.311547    0.000360   \n",
       "3                   0.45                1321.107443    0.000453   \n",
       "4                   0.45                1700.042262    0.000571   \n",
       "\n",
       "   ratio_proE_laserE_  \n",
       "0        3.812325e-07  \n",
       "1        4.279997e-07  \n",
       "2        4.805758e-07  \n",
       "3        5.397115e-07  \n",
       "4        6.062659e-07  "
      ]
     },
     "execution_count": 33,
     "metadata": {},
     "output_type": "execute_result"
    }
   ],
   "source": [
    "df.head()"
   ]
  },
  {
   "cell_type": "code",
   "execution_count": 34,
   "metadata": {
    "id": "O-yiFCQwhLRt",
    "pycharm": {
     "name": "#%%\n"
    }
   },
   "outputs": [],
   "source": [
    "df2 = df.copy()"
   ]
  },
  {
   "cell_type": "markdown",
   "metadata": {
    "id": "IxSPAsdpkYkM",
    "pycharm": {
     "name": "#%% md\n"
    }
   },
   "source": [
    "# Creating the data splits"
   ]
  },
  {
   "cell_type": "code",
   "execution_count": 35,
   "metadata": {
    "id": "d5h2mTjEi9SW",
    "pycharm": {
     "name": "#%%\n"
    }
   },
   "outputs": [],
   "source": [
    "X = df2.iloc[0:len(df2), [1, 2, 4, 5, 6, 8]]\n",
    "y = df2.iloc[0:len(df2), 3]"
   ]
  },
  {
   "cell_type": "code",
   "execution_count": 36,
   "metadata": {
    "id": "njsO80g6ja2S",
    "pycharm": {
     "name": "#%%\n"
    }
   },
   "outputs": [],
   "source": [
    "X_train, X_test, y_train, y_test = train_test_split(X, y, train_size=0.67)"
   ]
  },
  {
   "cell_type": "markdown",
   "metadata": {
    "id": "YpGpGFcaluoI",
    "pycharm": {
     "name": "#%% md\n"
    }
   },
   "source": [
    "# Standardizing X_train"
   ]
  },
  {
   "cell_type": "code",
   "execution_count": 37,
   "metadata": {
    "id": "PJ8GAhiylIXY",
    "pycharm": {
     "name": "#%%\n"
    }
   },
   "outputs": [],
   "source": [
    "stand_scaler = StandardScaler()"
   ]
  },
  {
   "cell_type": "code",
   "execution_count": 38,
   "metadata": {
    "colab": {
     "base_uri": "https://localhost:8080/"
    },
    "id": "IDV9t4vimW9l",
    "outputId": "c24d8a5f-c762-4036-fc03-96e65ac6f798",
    "pycharm": {
     "name": "#%%\n"
    }
   },
   "outputs": [
    {
     "data": {
      "text/plain": [
       "StandardScaler()"
      ]
     },
     "execution_count": 38,
     "metadata": {},
     "output_type": "execute_result"
    }
   ],
   "source": [
    "stand_scaler.fit(X_train)"
   ]
  },
  {
   "cell_type": "code",
   "execution_count": 39,
   "metadata": {
    "id": "sn0gPc4QnxgS",
    "pycharm": {
     "name": "#%%\n"
    }
   },
   "outputs": [],
   "source": [
    "X_train_norm= stand_scaler.transform(X_train)"
   ]
  },
  {
   "cell_type": "code",
   "execution_count": 40,
   "metadata": {
    "id": "zF6rZMGT4bMO",
    "pycharm": {
     "name": "#%%\n"
    }
   },
   "outputs": [],
   "source": [
    "X_test_norm = stand_scaler.transform(X_test)"
   ]
  },
  {
   "cell_type": "markdown",
   "metadata": {
    "id": "MNPk1y-Jpp3t",
    "pycharm": {
     "name": "#%% md\n"
    }
   },
   "source": [
    "# Log transform of y_train\n"
   ]
  },
  {
   "cell_type": "code",
   "execution_count": 41,
   "metadata": {
    "id": "TsjfxhuKoD-O",
    "pycharm": {
     "name": "#%%\n"
    }
   },
   "outputs": [],
   "source": [
    "y_train_log = cp.log(y_train)"
   ]
  },
  {
   "cell_type": "markdown",
   "metadata": {
    "id": "keUhwWkdtvEt",
    "pycharm": {
     "name": "#%% md\n"
    }
   },
   "source": [
    "# Creating the model"
   ]
  },
  {
   "cell_type": "code",
   "execution_count": 42,
   "metadata": {
    "id": "BWitSLDSpzTy",
    "pycharm": {
     "name": "#%%\n"
    }
   },
   "outputs": [],
   "source": [
    "svr = SVR(\n",
    "    kernel='poly',\n",
    "    degree= 3,\n",
    "    gamma='auto',\n",
    "    C=15,\n",
    "    epsilon=0.001,\n",
    "    coef0= 1.2\n",
    ")"
   ]
  },
  {
   "cell_type": "code",
   "execution_count": 43,
   "metadata": {
    "id": "eep6Q9NSBvpG",
    "pycharm": {
     "name": "#%%\n"
    }
   },
   "outputs": [],
   "source": [
    "start_time = time.time()"
   ]
  },
  {
   "cell_type": "code",
   "execution_count": 44,
   "metadata": {
    "colab": {
     "base_uri": "https://localhost:8080/"
    },
    "id": "VQtgT8olrb5S",
    "outputId": "880c604c-a6c5-4514-8623-afcafcff83c7",
    "pycharm": {
     "name": "#%%\n"
    }
   },
   "outputs": [
    {
     "data": {
      "text/plain": [
       "SVR()"
      ]
     },
     "execution_count": 44,
     "metadata": {},
     "output_type": "execute_result"
    }
   ],
   "source": [
    "svr.fit(X_train_norm, y_train_log)"
   ]
  },
  {
   "cell_type": "markdown",
   "metadata": {
    "id": "JsZcJBqHxrof",
    "pycharm": {
     "name": "#%% md\n"
    }
   },
   "source": [
    "# Exponentiating the predictions"
   ]
  },
  {
   "cell_type": "code",
   "execution_count": 45,
   "metadata": {
    "id": "xkf2Qmc6xq7g",
    "pycharm": {
     "name": "#%%\n"
    }
   },
   "outputs": [],
   "source": [
    "y_predict_train = cp.asnumpy(cp.exp(svr.predict(X_train_norm)))\n",
    "y_predict_test = cp.asnumpy(cp.exp(svr.predict(X_test_norm)))"
   ]
  },
  {
   "cell_type": "code",
   "execution_count": 46,
   "metadata": {
    "id": "A12MASZ7B1Jx",
    "pycharm": {
     "name": "#%%\n"
    }
   },
   "outputs": [],
   "source": [
    "end_time = time.time()"
   ]
  },
  {
   "cell_type": "markdown",
   "metadata": {
    "id": "hDpFI8E0AZBF",
    "pycharm": {
     "name": "#%% md\n"
    }
   },
   "source": [
    "# Transfering cupy arrays and cudf to numpy arrays"
   ]
  },
  {
   "cell_type": "code",
   "execution_count": 47,
   "metadata": {
    "id": "RNoMCRQQ-SFJ",
    "pycharm": {
     "name": "#%%\n"
    }
   },
   "outputs": [],
   "source": [
    "myar = np.zeros(len(y_predict_test))"
   ]
  },
  {
   "cell_type": "code",
   "execution_count": 48,
   "metadata": {
    "id": "B-VwUnk__LkK",
    "pycharm": {
     "name": "#%%\n"
    }
   },
   "outputs": [],
   "source": [
    "for i in range(len(myar)):\n",
    "    myar[i] = y_predict_test[i]"
   ]
  },
  {
   "cell_type": "code",
   "execution_count": 49,
   "metadata": {
    "id": "uLihg796_jP8",
    "pycharm": {
     "name": "#%%\n"
    }
   },
   "outputs": [],
   "source": [
    "y_predict_test = myar"
   ]
  },
  {
   "cell_type": "code",
   "execution_count": 50,
   "metadata": {
    "id": "Nzl17LOwASVl",
    "pycharm": {
     "name": "#%%\n"
    }
   },
   "outputs": [],
   "source": [
    "myar2 = np.zeros(len(y_test))"
   ]
  },
  {
   "cell_type": "code",
   "execution_count": 51,
   "metadata": {
    "id": "qE48QpsBAkXy",
    "pycharm": {
     "name": "#%%\n"
    }
   },
   "outputs": [],
   "source": [
    "y_test = y_test.to_numpy()"
   ]
  },
  {
   "cell_type": "markdown",
   "metadata": {
    "id": "u00jKQJxwT4h",
    "pycharm": {
     "name": "#%% md\n"
    }
   },
   "source": [
    "# Summary"
   ]
  },
  {
   "cell_type": "code",
   "execution_count": 52,
   "metadata": {
    "colab": {
     "base_uri": "https://localhost:8080/"
    },
    "id": "CQM8LeCBYWOq",
    "outputId": "3f44bb32-a812-4037-a07e-e761c05ea939",
    "pycharm": {
     "name": "#%%\n"
    }
   },
   "outputs": [
    {
     "name": "stdout",
     "output_type": "stream",
     "text": [
      "Size of training set| 131274\n",
      "Size of testing set | 64658\n"
     ]
    }
   ],
   "source": [
    "print(f'Size of training set| {len(X_train)}\\nSize of testing set | {len(X_test)}')"
   ]
  },
  {
   "cell_type": "code",
   "execution_count": 53,
   "metadata": {
    "colab": {
     "base_uri": "https://localhost:8080/"
    },
    "id": "f-h3cdJL7tww",
    "outputId": "8b8f98f6-366e-4a0d-cbbc-dc11d0c01208",
    "pycharm": {
     "name": "#%%\n"
    }
   },
   "outputs": [
    {
     "name": "stdout",
     "output_type": "stream",
     "text": [
      "MSE: 6.127417020133465e-07\n"
     ]
    }
   ],
   "source": [
    "print(f'MSE: {mean_squared_error(y_test, y_predict_test)}')"
   ]
  },
  {
   "cell_type": "code",
   "execution_count": 54,
   "metadata": {
    "colab": {
     "base_uri": "https://localhost:8080/"
    },
    "id": "VIZjQzC1-ENd",
    "outputId": "d2b9061d-5885-4bf3-eb60-0030c843ba41",
    "pycharm": {
     "name": "#%%\n"
    }
   },
   "outputs": [
    {
     "name": "stdout",
     "output_type": "stream",
     "text": [
      "r^2 score :0.8935011255888113\n"
     ]
    }
   ],
   "source": [
    "print(f'r^2 score :{r2_score(y_test, y_predict_test)}')"
   ]
  },
  {
   "cell_type": "code",
   "execution_count": 55,
   "metadata": {
    "colab": {
     "base_uri": "https://localhost:8080/"
    },
    "id": "BlnzNLjKBqW7",
    "outputId": "ccb253b7-9023-4e1e-f2dd-3a922b49f3f9",
    "pycharm": {
     "name": "#%%\n"
    }
   },
   "outputs": [
    {
     "name": "stdout",
     "output_type": "stream",
     "text": [
      "Wall Clock\n",
      "\n",
      "Hours  | 0.0\n",
      "Minutes| 3.0\n",
      "Seconds| 15.292898893356323\n"
     ]
    }
   ],
   "source": [
    "total_time = end_time - start_time\n",
    "print(f'Wall Clock\\n\\nHours  | {total_time // 60**2}\\nMinutes| {total_time // 60}\\nSeconds| {np.abs(total_time - 60 * (total_time // 60 ))}')"
   ]
  },
  {
   "cell_type": "markdown",
   "metadata": {},
   "source": [
    "# Testing the time needed for varying amounts of testing sizes"
   ]
  },
  {
   "cell_type": "code",
   "execution_count": null,
   "metadata": {},
   "outputs": [
    {
     "name": "stdout",
     "output_type": "stream",
     "text": [
      "0th job\n",
      "1th job\n",
      "2th job\n",
      "3th job\n",
      "4th job\n",
      "5th job\n",
      "6th job\n",
      "7th job\n",
      "8th job\n",
      "9th job\n",
      "10th job\n",
      "11th job\n",
      "12th job\n",
      "13th job\n",
      "14th job\n",
      "15th job\n",
      "16th job\n",
      "17th job\n",
      "18th job\n",
      "19th job\n",
      "20th job\n",
      "21th job\n",
      "22th job\n",
      "23th job\n",
      "24th job\n",
      "25th job\n",
      "26th job\n",
      "27th job\n",
      "28th job\n",
      "29th job\n",
      "30th job\n",
      "31th job\n"
     ]
    }
   ],
   "source": [
    "xSize = np.linspace(start = .25, stop= .95, num= 50)\n",
    "yTime = np.zeros(len(xSize))\n",
    "for i in range(len(xSize)):\n",
    "    print(f'{i}th job')\n",
    "    X_trainTest, X_testTest, y_trainTest, y_testTest = train_test_split(X, y, train_size = xSize[i])\n",
    "    # \n",
    "    stand_scalerTest = StandardScaler()\n",
    "    #\n",
    "    stand_scalerTest.fit(X_trainTest)\n",
    "    #\n",
    "    X_train_normTest = stand_scalerTest.transform(X_trainTest)\n",
    "    #\n",
    "    X_test_normTest = stand_scalerTest.transform(X_testTest)\n",
    "    #\n",
    "    y_train_logTest = cp.log(y_trainTest)\n",
    "    #\n",
    "    svrTest = SVR(\n",
    "        kernel='poly',\n",
    "        degree= 3,\n",
    "        gamma='auto',\n",
    "        C=15,\n",
    "        epsilon=0.001,\n",
    "        coef0= 1.2\n",
    "    )\n",
    "    #\n",
    "    start_timeTest = time.time()\n",
    "    #\n",
    "    svrTest.fit(X_train_normTest, y_train_logTest)\n",
    "    #\n",
    "    y_predict_trainTest = cp.asnumpy(cp.exp(svr.predict(X_train_normTest)))\n",
    "    y_predict_testTest = cp.asnumpy(cp.exp(svr.predict(X_test_normTest)))\n",
    "    #\n",
    "    end_timeTest = time.time()\n",
    "    #\n",
    "    total_timeTest = end_timeTest - start_timeTest\n",
    "    #\n",
    "    yTime[i] = total_timeTest"
   ]
  },
  {
   "cell_type": "code",
   "execution_count": null,
   "metadata": {},
   "outputs": [],
   "source": [
    "xSize = xSize * 195932"
   ]
  },
  {
   "cell_type": "code",
   "execution_count": null,
   "metadata": {
    "tags": []
   },
   "outputs": [],
   "source": [
    "plt.scatter(xSize, yTime)"
   ]
  },
  {
   "cell_type": "code",
   "execution_count": null,
   "metadata": {},
   "outputs": [],
   "source": [
    "dfTime = pd.DataFrame({'xSize':xSize, 'yTime':yTime})"
   ]
  },
  {
   "cell_type": "code",
   "execution_count": null,
   "metadata": {},
   "outputs": [],
   "source": [
    "dfTime.to_csv('time_needed2.csv')"
   ]
  },
  {
   "cell_type": "code",
   "execution_count": null,
   "metadata": {},
   "outputs": [],
   "source": []
  }
 ],
 "metadata": {
  "accelerator": "GPU",
  "colab": {
   "collapsed_sections": [],
   "name": "svr with cudf ricky.ipynb",
   "provenance": []
  },
  "gpuClass": "standard",
  "kernelspec": {
   "display_name": "rapids-22.06 [/users/PAS1066/pedrog/.conda/envs/rapids-22.06]",
   "language": "python",
   "name": "conda_rapids-22.06"
  },
  "language_info": {
   "codemirror_mode": {
    "name": "ipython",
    "version": 3
   },
   "file_extension": ".py",
   "mimetype": "text/x-python",
   "name": "python",
   "nbconvert_exporter": "python",
   "pygments_lexer": "ipython3",
   "version": "3.9.13"
  }
 },
 "nbformat": 4,
 "nbformat_minor": 4
}
