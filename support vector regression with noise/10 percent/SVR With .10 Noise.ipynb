{
 "cells": [
  {
   "cell_type": "code",
   "execution_count": 1,
   "outputs": [],
   "source": [
    "import time\n",
    "import h5py\n",
    "import matplotlib.pyplot as plt\n",
    "from matplotlib.pyplot import figure\n",
    "plt.style.use('ggplot')\n",
    "%matplotlib inline\n",
    "import numpy as np\n",
    "import pandas as pd\n",
    "from sklearn.model_selection import train_test_split\n",
    "from sklearn.svm import SVR\n",
    "from sklearn.svm import LinearSVR\n",
    "from sklearn.metrics import mean_squared_error, r2_score\n",
    "from sklearn.model_selection import GridSearchCV"
   ],
   "metadata": {
    "collapsed": false,
    "pycharm": {
     "name": "#%%\n"
    }
   }
  },
  {
   "cell_type": "markdown",
   "source": [
    "# Here we are importing the h5 file and create a dataframe."
   ],
   "metadata": {
    "collapsed": false,
    "pycharm": {
     "name": "#%% md\n"
    }
   }
  },
  {
   "cell_type": "code",
   "execution_count": 2,
   "outputs": [],
   "source": [
    "file = h5py.File('Data_Fuchs_v_2.7_Wright_Pat_Narrow_Range_energy_limit_0.01_deviation_0.1_lambda_um_0.8_points_100000_seed_6991.h5','r')\n",
    "file_dict = dict()\n",
    "for i in file.keys():\n",
    "    file_dict[i] = file[i][:]\n",
    "file.close()\n",
    "physics = pd.DataFrame(file_dict)"
   ],
   "metadata": {
    "collapsed": false,
    "pycharm": {
     "name": "#%%\n"
    }
   }
  },
  {
   "cell_type": "markdown",
   "source": [
    "# Here we specify the input and output variables"
   ],
   "metadata": {
    "collapsed": false,
    "pycharm": {
     "name": "#%% md\n"
    }
   }
  },
  {
   "cell_type": "code",
   "execution_count": 3,
   "outputs": [],
   "source": [
    "outputs = ['Max_Proton_Energy_(MeV)', 'Total_Proton_Energy_(MeV)', 'Avg_Proton_Energy_(MeV)']"
   ],
   "metadata": {
    "collapsed": false,
    "pycharm": {
     "name": "#%%\n"
    }
   }
  },
  {
   "cell_type": "code",
   "execution_count": 4,
   "outputs": [
    {
     "data": {
      "text/plain": "['Intensity_(W_cm2)',\n 'Pulse_Duration_(fs)',\n 'Spot_Size_(FWHM um)',\n 'Target_Thickness (um)']"
     },
     "execution_count": 4,
     "metadata": {},
     "output_type": "execute_result"
    }
   ],
   "source": [
    "# this is to avoid copying a pasting\n",
    "inputs = []\n",
    "for i in physics.columns:\n",
    "    if i in outputs:\n",
    "        continue\n",
    "    else:\n",
    "        inputs.append(i)\n",
    "inputs"
   ],
   "metadata": {
    "collapsed": false,
    "pycharm": {
     "name": "#%%\n"
    }
   }
  },
  {
   "cell_type": "markdown",
   "source": [
    "##### For now, we will work with a dataframe that only has Max Proton Energy as the output variable and name it df."
   ],
   "metadata": {
    "collapsed": false,
    "pycharm": {
     "name": "#%% md\n"
    }
   }
  },
  {
   "cell_type": "code",
   "execution_count": 5,
   "outputs": [
    {
     "data": {
      "text/plain": "Index(['Intensity_(W_cm2)', 'Max_Proton_Energy_(MeV)', 'Pulse_Duration_(fs)',\n       'Spot_Size_(FWHM um)', 'Target_Thickness (um)'],\n      dtype='object')"
     },
     "execution_count": 5,
     "metadata": {},
     "output_type": "execute_result"
    }
   ],
   "source": [
    "df = physics.copy()\n",
    "df = df.drop(columns= outputs[1:])\n",
    "df.columns"
   ],
   "metadata": {
    "collapsed": false,
    "pycharm": {
     "name": "#%%\n"
    }
   }
  },
  {
   "cell_type": "markdown",
   "source": [
    "##### The rows that contain negative Max Proton Energy will be dropped."
   ],
   "metadata": {
    "collapsed": false,
    "pycharm": {
     "name": "#%% md\n"
    }
   }
  },
  {
   "cell_type": "code",
   "execution_count": 6,
   "outputs": [],
   "source": [
    "df = df[df[outputs[0]] > 0]"
   ],
   "metadata": {
    "collapsed": false,
    "pycharm": {
     "name": "#%%\n"
    }
   }
  },
  {
   "cell_type": "code",
   "execution_count": 7,
   "outputs": [],
   "source": [
    "# df.to_csv('raw_data.csv', index=False)"
   ],
   "metadata": {
    "collapsed": false,
    "pycharm": {
     "name": "#%%\n"
    }
   }
  },
  {
   "cell_type": "markdown",
   "source": [
    "##### The train and split sets will also be created here for df."
   ],
   "metadata": {
    "collapsed": false,
    "pycharm": {
     "name": "#%% md\n"
    }
   }
  },
  {
   "cell_type": "code",
   "execution_count": null,
   "outputs": [],
   "source": [
    "X_train, X_test, y_train, y_test = train_test_split(df[[inputs[0], inputs[3]]], df[outputs[0]], test_size=0.33, random_state=6991)"
   ],
   "metadata": {
    "collapsed": false,
    "pycharm": {
     "name": "#%%\n"
    }
   }
  },
  {
   "cell_type": "markdown",
   "source": [
    "##### Normalizing the data"
   ],
   "metadata": {
    "collapsed": false,
    "pycharm": {
     "name": "#%% md\n"
    }
   }
  },
  {
   "cell_type": "code",
   "execution_count": null,
   "outputs": [],
   "source": [
    "X_train_means = X_train.mean()\n",
    "X_train_stds = X_train.std(ddof=1)\n",
    "X_train_norm = (X_train - X_train_means) / X_train_stds\n",
    "\n",
    "y_train_means = y_train.mean()\n",
    "y_train_stds = y_train.std(ddof=1)\n",
    "y_train_norm = (y_train - y_train_means) / y_train_stds\n",
    "\n",
    "X_test_means = X_test.mean()\n",
    "X_test_stds = X_test.std(ddof=1)\n",
    "X_test_norm = (X_test - X_test_means) / X_test_stds\n",
    "\n",
    "y_test_means = y_test.mean()\n",
    "y_test_stds = y_test.std(ddof=1)\n",
    "y_test_norm = (y_test - y_test_means) / y_test_stds"
   ],
   "metadata": {
    "collapsed": false,
    "pycharm": {
     "name": "#%%\n"
    }
   }
  },
  {
   "cell_type": "code",
   "execution_count": null,
   "outputs": [],
   "source": [
    "X_train_norm.head()"
   ],
   "metadata": {
    "collapsed": false,
    "pycharm": {
     "name": "#%%\n"
    }
   }
  },
  {
   "cell_type": "markdown",
   "source": [
    "# Scatter plot of the data to be modeled."
   ],
   "metadata": {
    "collapsed": false,
    "pycharm": {
     "name": "#%% md\n"
    }
   }
  },
  {
   "cell_type": "code",
   "execution_count": null,
   "outputs": [],
   "source": [
    "fig1 = plt.figure(figsize=(9, 9))\n",
    "ax = fig1.add_subplot(projection='3d')\n",
    "ax.scatter(X_train_norm[inputs[0]],\n",
    "           X_train_norm[inputs[3]],\n",
    "           y_train,\n",
    "           c = np.sqrt(y_train),\n",
    "           label = \"Data\")\n",
    "ax.set_title('Scatter Plot of Data')\n",
    "ax.set_xlabel(f'{inputs[0]}', fontweight ='bold')\n",
    "ax.set_ylabel(f'{inputs[3]}', fontweight ='bold')\n",
    "ax.set_zlabel(f'{outputs[0]}', fontweight ='bold')\n",
    "ax.view_init(20, 50)\n",
    "plt.legend(loc=\"upper right\")\n",
    "plt.show()"
   ],
   "metadata": {
    "collapsed": false,
    "pycharm": {
     "name": "#%%\n"
    }
   }
  },
  {
   "cell_type": "markdown",
   "source": [
    "# Support Vector Regression model (SVR)"
   ],
   "metadata": {
    "collapsed": false,
    "pycharm": {
     "name": "#%% md\n"
    }
   }
  },
  {
   "cell_type": "markdown",
   "source": [
    "##### First we create a model to predict the values of the X test set to see what the predictions look like."
   ],
   "metadata": {
    "collapsed": false,
    "pycharm": {
     "name": "#%% md\n"
    }
   }
  },
  {
   "cell_type": "code",
   "execution_count": null,
   "outputs": [],
   "source": [
    "start_time = time.process_time()"
   ],
   "metadata": {
    "collapsed": false,
    "pycharm": {
     "name": "#%%\n"
    }
   }
  },
  {
   "cell_type": "code",
   "execution_count": null,
   "outputs": [],
   "source": [
    "svr_poly = SVR(kernel=\"poly\",\n",
    "               C=51.2,\n",
    "               gamma=\"scale\",\n",
    "               degree=3,\n",
    "               epsilon=0.088,\n",
    "               coef0=.082\n",
    "               )\n",
    "# svr_poly = LinearSVR(epsilon=0.45,\n",
    "#                      tol=0.0001,\n",
    "#                      C=1.0,\n",
    "#                      loss='epsilon_insensitive',\n",
    "#                      fit_intercept=True,\n",
    "#                      intercept_scaling=1.0,\n",
    "#                      dual=True,\n",
    "#                      verbose=0,\n",
    "#                      random_state=None,\n",
    "#                      max_iter=5000\n",
    "#                      )"
   ],
   "metadata": {
    "collapsed": false,
    "pycharm": {
     "name": "#%%\n"
    }
   }
  },
  {
   "cell_type": "code",
   "execution_count": null,
   "outputs": [],
   "source": [
    "svr_poly.fit(X_train_norm[[inputs[0], inputs[3]]], np.log(y_train))"
   ],
   "metadata": {
    "collapsed": false,
    "pycharm": {
     "name": "#%%\n"
    }
   }
  },
  {
   "cell_type": "code",
   "execution_count": null,
   "outputs": [],
   "source": [
    "my_pred = np.exp(svr_poly.predict(X_train_norm))"
   ],
   "metadata": {
    "collapsed": false,
    "pycharm": {
     "name": "#%%\n"
    }
   }
  },
  {
   "cell_type": "markdown",
   "source": [
    "##### CPU time to run, train, and predict data"
   ],
   "metadata": {
    "collapsed": false,
    "pycharm": {
     "name": "#%% md\n"
    }
   }
  },
  {
   "cell_type": "code",
   "execution_count": null,
   "outputs": [],
   "source": [
    "end_time = time.process_time()\n",
    "total_time = end_time - start_time\n",
    "print(f'The CPU time for this model to run is {total_time} seconds.')"
   ],
   "metadata": {
    "collapsed": false,
    "pycharm": {
     "name": "#%%\n"
    }
   }
  },
  {
   "cell_type": "code",
   "execution_count": null,
   "outputs": [],
   "source": [
    "fig2 = plt.figure(figsize=(10, 10))\n",
    "ax = fig2.add_subplot(projection='3d')\n",
    "ax.scatter(X_train[inputs[0]],\n",
    "           X_train[inputs[3]],\n",
    "           y_train,\n",
    "           c = np.sqrt(y_train),\n",
    "           alpha = .8,\n",
    "           label= 'Data')\n",
    "ax.scatter(X_train[inputs[0]],\n",
    "           X_train[inputs[3]],\n",
    "           my_pred,\n",
    "           c = 'red',\n",
    "           alpha= .5,\n",
    "           label= 'Model')\n",
    "ax.set_title('SVR Model of Max Proton Energy')\n",
    "ax.set_xlabel(f'{inputs[0]}', fontweight ='bold')\n",
    "ax.set_ylabel(f'{inputs[3]}', fontweight ='bold')\n",
    "ax.set_zlabel(f'{outputs[0]}', fontweight ='bold')\n",
    "ax.view_init(20, 50)\n",
    "plt.legend(loc=\"upper right\")\n",
    "ax = plt.gca()\n",
    "leg = ax.get_legend()\n",
    "leg.legendHandles[1].set_alpha(1)\n",
    "leg.legendHandles[0].set_alpha(1)\n",
    "plt.show()"
   ],
   "metadata": {
    "collapsed": false,
    "pycharm": {
     "name": "#%%\n"
    }
   }
  },
  {
   "cell_type": "markdown",
   "source": [
    "##### An error dataframe will be created for the log transformed data model for the testing sets. This dataframe will also contain the predicted values of the log model, and it will contain the predicted values of the model converted back into its original non log format."
   ],
   "metadata": {
    "collapsed": false,
    "pycharm": {
     "name": "#%% md\n"
    }
   }
  },
  {
   "cell_type": "code",
   "execution_count": null,
   "outputs": [],
   "source": [
    "error_3d = X_test_norm.copy()\n",
    "error_3d['Predictions'] = np.exp(svr_poly.predict(X_test_norm))\n",
    "error_3d[outputs[0]] = y_test\n",
    "error_3d['Relative Error'] = np.abs((y_test - error_3d['Predictions']) / y_test) * 100"
   ],
   "metadata": {
    "collapsed": false,
    "pycharm": {
     "name": "#%%\n"
    }
   }
  },
  {
   "cell_type": "code",
   "execution_count": null,
   "outputs": [],
   "source": [
    "fig3 = plt.figure(figsize=(10, 10))\n",
    "ax = fig3.add_subplot(projection='3d')\n",
    "ax.scatter(X_test_norm[inputs[0]],\n",
    "           X_test_norm[inputs[3]],\n",
    "           error_3d['Relative Error'],\n",
    "           c = np.sqrt(error_3d['Relative Error']))\n",
    "ax.set_title('Relative Error of SVR Model with Max Proton Energy')\n",
    "ax.set_xlabel(f'{inputs[0]}', fontweight ='bold')\n",
    "ax.set_ylabel(f'{inputs[3]}', fontweight ='bold')\n",
    "ax.set_zlabel(f'Relative Error %', fontweight ='bold')\n",
    "ax.view_init(20, 50)\n",
    "plt.show()"
   ],
   "metadata": {
    "collapsed": false,
    "pycharm": {
     "name": "#%%\n"
    }
   }
  },
  {
   "cell_type": "markdown",
   "source": [
    "# Removing the mild and extreme outliers"
   ],
   "metadata": {
    "collapsed": false,
    "pycharm": {
     "name": "#%% md\n"
    }
   }
  },
  {
   "cell_type": "code",
   "execution_count": null,
   "outputs": [],
   "source": [
    "error_3d_2 = error_3d.copy()\n",
    "q1 = np.percentile(error_3d_2['Relative Error'], 25)\n",
    "q3 = np.percentile(error_3d_2['Relative Error'], 75)\n",
    "iqr = q3 - q1\n",
    "error_3d_2 = error_3d_2[(error_3d_2['Relative Error'] >= q1 - 1.5 * iqr) & (error_3d_2['Relative Error'] <= q1 + 1.5 * iqr)]"
   ],
   "metadata": {
    "collapsed": false,
    "pycharm": {
     "name": "#%%\n"
    }
   }
  },
  {
   "cell_type": "code",
   "execution_count": null,
   "outputs": [],
   "source": [
    "error_3d_2"
   ],
   "metadata": {
    "collapsed": false,
    "pycharm": {
     "name": "#%%\n"
    }
   }
  },
  {
   "cell_type": "code",
   "execution_count": null,
   "outputs": [],
   "source": [
    "fig5 = plt.figure(figsize=(10, 10))\n",
    "ax = fig5.add_subplot(projection='3d')\n",
    "ax.scatter(error_3d_2[inputs[0]],\n",
    "           error_3d_2[inputs[3]],\n",
    "           error_3d_2['Relative Error'],\n",
    "           alpha = .8,\n",
    "           c = error_3d_2['Relative Error'])\n",
    "ax.set_title('Relative Error of Spline Model with Max Proton Energy Test Set')\n",
    "ax.set_xlabel(f'{inputs[0]}', fontweight ='bold')\n",
    "ax.set_ylabel(f'{inputs[3]}', fontweight ='bold')\n",
    "ax.set_zlabel(f'Relative Error %', fontweight ='bold')\n",
    "ax.view_init(20, 50)\n",
    "plt.show()"
   ],
   "metadata": {
    "collapsed": false,
    "pycharm": {
     "name": "#%%\n"
    }
   }
  },
  {
   "cell_type": "markdown",
   "source": [
    "# Summary"
   ],
   "metadata": {
    "collapsed": false,
    "pycharm": {
     "name": "#%% md\n"
    }
   }
  },
  {
   "cell_type": "code",
   "execution_count": null,
   "outputs": [],
   "source": [
    "x = np.arange(0, 101, 1)\n",
    "idk = np.zeros(101)\n",
    "\n",
    "for i in range(len(idk)):\n",
    "    idk[i] = np.percentile(error_3d['Relative Error'], x[i])\n",
    "\n",
    "\n",
    "figure(figsize=(8, 8), dpi=90)\n",
    "x_ticks = np.arange(0, 101, 5)\n",
    "y_ticks = np.arange(0, np.max(error_3d['Relative Error']) +1, 5)\n",
    "plt.xticks(x_ticks)\n",
    "plt.yticks(y_ticks)\n",
    "plt.xlabel('Percent of Testing Set')\n",
    "plt.ylabel('Percent Error')\n",
    "plt.plot(x, idk)\n",
    "plt.show()"
   ],
   "metadata": {
    "collapsed": false,
    "pycharm": {
     "name": "#%%\n"
    }
   }
  },
  {
   "cell_type": "code",
   "execution_count": null,
   "outputs": [],
   "source": [
    "print(f'Size of training set| {len(X_train)}\\nSize of testing set | {len(X_test)}')"
   ],
   "metadata": {
    "collapsed": false,
    "pycharm": {
     "name": "#%%\n"
    }
   }
  },
  {
   "cell_type": "code",
   "execution_count": null,
   "outputs": [],
   "source": [
    "mean_squared_error(y_test, error_3d['Predictions'])"
   ],
   "metadata": {
    "collapsed": false,
    "pycharm": {
     "name": "#%%\n"
    }
   }
  },
  {
   "cell_type": "code",
   "execution_count": null,
   "outputs": [],
   "source": [
    "print(f'CPU\\nHours  | {total_time // 60**2}\\nMinutes| {total_time // 60}\\nSeconds| {np.abs(total_time - 60 * (total_time // 60 ))}')"
   ],
   "metadata": {
    "collapsed": false,
    "pycharm": {
     "name": "#%%\n"
    }
   }
  },
  {
   "cell_type": "code",
   "execution_count": null,
   "outputs": [],
   "source": [
    "r2_score(y_test, error_3d['Predictions'])"
   ],
   "metadata": {
    "collapsed": false,
    "pycharm": {
     "name": "#%%\n"
    }
   }
  },
  {
   "cell_type": "code",
   "execution_count": null,
   "outputs": [],
   "source": [
    "np.percentile(error_3d['Relative Error'], 95)"
   ],
   "metadata": {
    "collapsed": false,
    "pycharm": {
     "name": "#%%\n"
    }
   }
  },
  {
   "cell_type": "markdown",
   "source": [
    "# Optimizing the hyperparameters"
   ],
   "metadata": {
    "collapsed": false,
    "pycharm": {
     "name": "#%% md\n"
    }
   }
  },
  {
   "cell_type": "code",
   "execution_count": null,
   "outputs": [],
   "source": [
    "# parameters = {'kernel': ('poly', 'rbf'),\n",
    "#               'C': [51.1, 51.2, 52],\n",
    "#               'degree': [3],\n",
    "#               'gamma': ['auto'],\n",
    "#               'epsilon': [.087, .0879, .088, .0881],\n",
    "#               'coef0': [.081, .082, .0821]\n",
    "#               }"
   ],
   "metadata": {
    "collapsed": false,
    "pycharm": {
     "name": "#%%\n"
    }
   }
  },
  {
   "cell_type": "code",
   "execution_count": null,
   "outputs": [],
   "source": [
    "# svr = SVR()"
   ],
   "metadata": {
    "collapsed": false,
    "pycharm": {
     "name": "#%%\n"
    }
   }
  },
  {
   "cell_type": "code",
   "execution_count": null,
   "outputs": [],
   "source": [
    "# clf = GridSearchCV(svr,\n",
    "#                    parameters,\n",
    "#                    n_jobs= -1,\n",
    "#                    verbose= 2,\n",
    "#                    cv = 5\n",
    "#                    )"
   ],
   "metadata": {
    "collapsed": false,
    "pycharm": {
     "name": "#%%\n"
    }
   }
  },
  {
   "cell_type": "code",
   "execution_count": null,
   "outputs": [],
   "source": [
    "# y_train_log = np.log(y_train)\n",
    "# clf.fit(X_train_norm, y_train_log)"
   ],
   "metadata": {
    "collapsed": false,
    "pycharm": {
     "name": "#%%\n"
    }
   }
  },
  {
   "cell_type": "code",
   "execution_count": null,
   "outputs": [],
   "source": [
    "# clf.best_params_"
   ],
   "metadata": {
    "collapsed": false,
    "pycharm": {
     "name": "#%%\n"
    }
   }
  },
  {
   "cell_type": "code",
   "execution_count": null,
   "outputs": [],
   "source": [
    "# clf.best_score_"
   ],
   "metadata": {
    "collapsed": false,
    "pycharm": {
     "name": "#%%\n"
    }
   }
  },
  {
   "cell_type": "code",
   "execution_count": 33,
   "outputs": [],
   "source": [
    "# clf.best_params_"
   ],
   "metadata": {
    "collapsed": false,
    "pycharm": {
     "name": "#%%\n"
    }
   }
  },
  {
   "cell_type": "code",
   "execution_count": 34,
   "outputs": [],
   "source": [
    "# clf.best_score_"
   ],
   "metadata": {
    "collapsed": false,
    "pycharm": {
     "name": "#%%\n"
    }
   }
  },
  {
   "cell_type": "code",
   "execution_count": null,
   "outputs": [],
   "source": [],
   "metadata": {
    "collapsed": false,
    "pycharm": {
     "name": "#%%\n"
    }
   }
  }
 ],
 "metadata": {
  "kernelspec": {
   "display_name": "Python 3",
   "language": "python",
   "name": "python3"
  },
  "language_info": {
   "codemirror_mode": {
    "name": "ipython",
    "version": 2
   },
   "file_extension": ".py",
   "mimetype": "text/x-python",
   "name": "python",
   "nbconvert_exporter": "python",
   "pygments_lexer": "ipython2",
   "version": "2.7.6"
  }
 },
 "nbformat": 4,
 "nbformat_minor": 0
}